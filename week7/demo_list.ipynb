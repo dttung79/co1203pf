{
 "cells": [
  {
   "cell_type": "code",
   "execution_count": null,
   "metadata": {},
   "outputs": [],
   "source": [
    "# Create a list\n",
    "a = [] # empty list\n",
    "b = [1, 2, 3] # a list of 3 integers\n",
    "c = ['hi', 'bonjour', 'xin chao'] # a list of 3 strings\n",
    "print(a, b, c, sep='\\n')"
   ]
  },
  {
   "cell_type": "code",
   "execution_count": null,
   "metadata": {},
   "outputs": [],
   "source": [
    "# create random list\n",
    "import random as rd\n",
    "numbers = rd.sample(range(100), 10) # take 10 random numbers from the range 0-99\n",
    "print(numbers)"
   ]
  },
  {
   "cell_type": "code",
   "execution_count": null,
   "metadata": {},
   "outputs": [],
   "source": [
    "# len function returns the length of a list\n",
    "print(len(a), len(b), len(c), len(numbers))"
   ]
  },
  {
   "cell_type": "code",
   "execution_count": null,
   "metadata": {},
   "outputs": [],
   "source": [
    "# list operators: +, *, in\n",
    "d = b + c # + operator concatenates two lists\n",
    "print(d)\n",
    "e = b * 2 # * operator multiply the content of the list\n",
    "print(e)"
   ]
  },
  {
   "cell_type": "code",
   "execution_count": 9,
   "metadata": {},
   "outputs": [
    {
     "name": "stdout",
     "output_type": "stream",
     "text": [
      "18 is in the list [92, 75, 45, 33, 5, 19, 10, 76, 18, 22]\n"
     ]
    }
   ],
   "source": [
    "n = int(input('Enter n: '))\n",
    "if n in numbers:\n",
    "    print(f'{n} is in the list {numbers}')\n",
    "else:\n",
    "    print(f'{n} is not in the list {numbers}')"
   ]
  },
  {
   "cell_type": "code",
   "execution_count": 11,
   "metadata": {},
   "outputs": [
    {
     "name": "stdout",
     "output_type": "stream",
     "text": [
      "[92, 75, 45, 33, 5, 19, 10, 76, 18, 22]\n",
      "92\n",
      "33\n",
      "22\n"
     ]
    }
   ],
   "source": [
    "# access item in the list using index\n",
    "print(numbers)\n",
    "print(numbers[0])\n",
    "print(numbers[3])\n",
    "print(numbers[9])"
   ]
  },
  {
   "cell_type": "code",
   "execution_count": null,
   "metadata": {},
   "outputs": [],
   "source": [
    "# Popular list algorithms: traversal, sum, count, search, max/min"
   ]
  },
  {
   "cell_type": "code",
   "execution_count": 14,
   "metadata": {},
   "outputs": [
    {
     "name": "stdout",
     "output_type": "stream",
     "text": [
      "[92, 75, 45, 33, 5, 19, 10, 76, 18, 22]\n",
      "92 75 45 33 5 19 10 76 18 22 "
     ]
    }
   ],
   "source": [
    "print(numbers)\n",
    "# user for loop to traverse a list\n",
    "for n in numbers:       # loop through each items in the list\n",
    "    print(n, end=' ')"
   ]
  },
  {
   "cell_type": "code",
   "execution_count": 15,
   "metadata": {},
   "outputs": [
    {
     "name": "stdout",
     "output_type": "stream",
     "text": [
      "92 75 45 33 5 19 10 76 18 22 "
     ]
    }
   ],
   "source": [
    "# loop through each index in the list\n",
    "n = len(numbers)\n",
    "for i in range(n):\n",
    "    print(numbers[i], end=' ')"
   ]
  },
  {
   "cell_type": "code",
   "execution_count": 17,
   "metadata": {},
   "outputs": [
    {
     "name": "stdout",
     "output_type": "stream",
     "text": [
      "Here is the list of fruits:\n",
      " **  **  **  **  ** "
     ]
    }
   ],
   "source": [
    "# Problem: enter a list of 5 fruits then print it out\n",
    "fruits = [''] * 5 # create a list of 5 empty strings\n",
    "for i in range(len(fruits)):\n",
    "    fruits[i] = input(f'Enter fruit {i+1}: ')\n",
    "\n",
    "# print the list\n",
    "print('Here is the list of fruits:')\n",
    "for fr in fruits:\n",
    "    print(fr, end=' ** ')"
   ]
  },
  {
   "cell_type": "code",
   "execution_count": 20,
   "metadata": {},
   "outputs": [
    {
     "name": "stdout",
     "output_type": "stream",
     "text": [
      "Apple: $10\n",
      "Mango: $15\n",
      "Banana: $5\n",
      "Orange: $7\n",
      "Grape: $20\n"
     ]
    }
   ],
   "source": [
    "fruits = ['Apple', 'Mango', 'Banana', 'Orange', 'Grape']\n",
    "prices = [10, 15, 5, 7, 20]\n",
    "# Print fruits next to their prices, for example:\n",
    "# Apple: $10\n",
    "# Mango: $15\n",
    "# ...\n",
    "for i in range(len(fruits)):\n",
    "    print(f'{fruits[i]}: ${prices[i]}')"
   ]
  },
  {
   "cell_type": "code",
   "execution_count": 21,
   "metadata": {},
   "outputs": [
    {
     "name": "stdout",
     "output_type": "stream",
     "text": [
      "Sum of [92, 75, 45, 33, 5, 19, 10, 76, 18, 22] = 395\n"
     ]
    }
   ],
   "source": [
    "s = 0\n",
    "for n in numbers:\n",
    "    s = s + n\n",
    "print(f'Sum of {numbers} = {s}')"
   ]
  },
  {
   "cell_type": "code",
   "execution_count": 22,
   "metadata": {},
   "outputs": [
    {
     "name": "stdout",
     "output_type": "stream",
     "text": [
      "Total price = $57\n"
     ]
    }
   ],
   "source": [
    "# Ex: Calculate total prices of fruits\n",
    "total_price = 0\n",
    "for p in prices:\n",
    "    total_price += p\n",
    "print(f'Total price = ${total_price}')"
   ]
  },
  {
   "cell_type": "code",
   "execution_count": null,
   "metadata": {},
   "outputs": [],
   "source": [
    "# For each fruit, show fruit name then ask for quantity and print payment\n",
    "# For example:\n",
    "# How many Apple: 5\n",
    "# Payment for 5 Apple: $50\n",
    "# How many Mango: 3\n",
    "# Payment for 3 Mango: $45\n",
    "# ...\n",
    "\n",
    "# and finally print total payment\n",
    "total_payment = 0\n",
    "\n",
    "for i in range(len(fruits)):\n",
    "    n = int(input(f'How many {fruits[i]}: '))\n",
    "    payment = n * prices[i]\n",
    "    print(f'Payment for {n} {fruits[i]}: ${payment}')\n",
    "    total_payment += payment\n",
    "\n",
    "print(f'Total payment = ${total_payment}')"
   ]
  },
  {
   "cell_type": "code",
   "execution_count": 26,
   "metadata": {},
   "outputs": [
    {
     "name": "stdout",
     "output_type": "stream",
     "text": [
      "[92, 75, 45, 33, 5, 19, 10, 76, 18, 22]\n",
      "There are 5 even numbers in the list\n",
      "There are 5 odd numbers in the list\n"
     ]
    }
   ],
   "source": [
    "print(numbers)\n",
    "count = 0\n",
    "for n in numbers:\n",
    "    if n % 2 == 0:\n",
    "        count += 1\n",
    "print(f'There are {count} even numbers in the list')\n",
    "# Ex: count how many odd numbers in the list\n",
    "\n",
    "count = 0\n",
    "for n in numbers:\n",
    "    if n % 2 == 1:\n",
    "        count += 1\n",
    "print(f'There are {count} odd numbers in the list')"
   ]
  },
  {
   "cell_type": "code",
   "execution_count": 30,
   "metadata": {},
   "outputs": [
    {
     "name": "stdout",
     "output_type": "stream",
     "text": [
      "There are 2 luxury fruits\n",
      "Average price: $11.4\n",
      "Apple\n",
      "Banana\n",
      "Orange\n",
      "There are 3 fruits that has price lower than average price $11.4\n"
     ]
    }
   ],
   "source": [
    "# Count how many fruits that has luxury price (> $10)\n",
    "count = 0\n",
    "for p in prices:\n",
    "    if p > 10:\n",
    "        count += 1\n",
    "print(f'There are {count} luxury fruits')\n",
    "# Calculate average price, count how many fruits that has price lower than average price\n",
    "\n",
    "total_price = 0\n",
    "for p in prices:\n",
    "    total_price += p\n",
    "avg_price = total_price / len(prices)\n",
    "print(f'Average price: ${avg_price}')\n",
    "count = 0\n",
    "for i in range(len(prices)):\n",
    "    if prices[i] < avg_price:\n",
    "        print(fruits[i])\n",
    "        count += 1\n",
    "print(f'There are {count} fruits that has price lower than average price ${avg_price}')"
   ]
  },
  {
   "cell_type": "code",
   "execution_count": 32,
   "metadata": {},
   "outputs": [
    {
     "name": "stdout",
     "output_type": "stream",
     "text": [
      "[92, 75, 45, 33, 5, 19, 10, 76, 18, 22]\n",
      "74 is not in the list [92, 75, 45, 33, 5, 19, 10, 76, 18, 22]\n"
     ]
    }
   ],
   "source": [
    "found = False\n",
    "print(numbers)\n",
    "x = int(input('Enter x: '))\n",
    "\n",
    "for n in numbers:\n",
    "    if n == x:\n",
    "        found = True\n",
    "        break\n",
    "if found:\n",
    "    print(f'{x} is in the list {numbers}')\n",
    "else:\n",
    "    print(f'{x} is not in the list {numbers}')"
   ]
  },
  {
   "cell_type": "code",
   "execution_count": 33,
   "metadata": {},
   "outputs": [
    {
     "name": "stdout",
     "output_type": "stream",
     "text": [
      "74 is not in the list [92, 75, 45, 33, 5, 19, 10, 76, 18, 22]\n"
     ]
    }
   ],
   "source": [
    "# Use 2nd way of for to find x in the list\n",
    "found = False\n",
    "for i in range(len(numbers)):\n",
    "    if numbers[i] == x:\n",
    "        found = True\n",
    "        break\n",
    "\n",
    "if found:\n",
    "    print(f'{x} is in the list {numbers}')\n",
    "else:\n",
    "    print(f'{x} is not in the list {numbers}')"
   ]
  },
  {
   "cell_type": "code",
   "execution_count": 37,
   "metadata": {},
   "outputs": [
    {
     "name": "stdout",
     "output_type": "stream",
     "text": [
      "['Apple', 'Mango', 'Banana', 'Orange', 'Grape']\n",
      "[10, 15, 5, 7, 20]\n",
      "Not found\n"
     ]
    }
   ],
   "source": [
    "print(fruits)\n",
    "print(prices)\n",
    "# Ex: enter a fruit, if found, print its price, if not found, print 'Not found'\n",
    "\n",
    "found = False\n",
    "fruit = input('Enter a fruit: ')\n",
    "\n",
    "for i in range(len(fruits)):\n",
    "    if fruit == fruits[i]:\n",
    "        print(f'Price of {fruit} is ${prices[i]}')\n",
    "        found = True\n",
    "        break\n",
    "\n",
    "if found == False:\n",
    "    print('Not found')"
   ]
  },
  {
   "cell_type": "code",
   "execution_count": 40,
   "metadata": {},
   "outputs": [
    {
     "name": "stdout",
     "output_type": "stream",
     "text": [
      "Student Hnana Not found\n"
     ]
    }
   ],
   "source": [
    "students = ['John', 'Peter', 'Mary', 'Jane', 'Tom', 'Jerry']\n",
    "grades = [8, 7, 9, 10, 6, 5]\n",
    "# Ex: enter student name, if found print his/her grade, if not found print 'Not found'\n",
    "\n",
    "found = False\n",
    "name = input('Enter student name: ')\n",
    "for i in range(len(students)):\n",
    "    if name == students[i]:\n",
    "        print(f'Grade of {name} is {grades[i]}')\n",
    "        found = True\n",
    "        break\n",
    "if not found:\n",
    "    print(f'Student {name} not found')"
   ]
  },
  {
   "cell_type": "code",
   "execution_count": 44,
   "metadata": {},
   "outputs": [
    {
     "name": "stdout",
     "output_type": "stream",
     "text": [
      "[65, 15, 38, 63, 35, 76, 88, 97, 27, 45]\n",
      "Max number in [65, 15, 38, 63, 35, 76, 88, 97, 27, 45] is 97\n",
      "Min = 15\n"
     ]
    }
   ],
   "source": [
    "numbers = rd.sample(range(100), 10)\n",
    "print(numbers)\n",
    "\n",
    "m = numbers[0] # assume the 1st number is the max number\n",
    "for i in range(1, len(numbers)):\n",
    "    if numbers[i] > m:\n",
    "        m = numbers[i]\n",
    "print(f'Max number in {numbers} is {m}')\n",
    "\n",
    "# Find min number in the list\n",
    "m = numbers[0]\n",
    "for i in range(1, len(numbers)):\n",
    "    if numbers[i] < m:\n",
    "        m = numbers[i]\n",
    "\n",
    "print(f'Min = {m}')"
   ]
  },
  {
   "cell_type": "code",
   "execution_count": 45,
   "metadata": {},
   "outputs": [
    {
     "name": "stdout",
     "output_type": "stream",
     "text": [
      "['John', 'Peter', 'Mary', 'Jane', 'Tom', 'Jerry']\n",
      "[8, 7, 9, 10, 6, 5]\n"
     ]
    }
   ],
   "source": [
    "print(students)\n",
    "print(grades)"
   ]
  },
  {
   "cell_type": "code",
   "execution_count": 46,
   "metadata": {},
   "outputs": [
    {
     "name": "stdout",
     "output_type": "stream",
     "text": [
      "Max grade = 10\n",
      "Student who has max grade is Jane\n"
     ]
    }
   ],
   "source": [
    "max_grade = grades[0]\n",
    "pos_max = 0\n",
    "\n",
    "for i in range(1, len(grades)):\n",
    "    if grades[i] > max_grade:\n",
    "        max_grade = grades[i]\n",
    "        pos_max = i\n",
    "\n",
    "print(f'Max grade = {max_grade}')\n",
    "print(f'Student who has max grade is {students[pos_max]}')"
   ]
  },
  {
   "cell_type": "code",
   "execution_count": null,
   "metadata": {},
   "outputs": [],
   "source": [
    "# Find the most expensive fruit"
   ]
  }
 ],
 "metadata": {
  "kernelspec": {
   "display_name": "Python 3",
   "language": "python",
   "name": "python3"
  },
  "language_info": {
   "codemirror_mode": {
    "name": "ipython",
    "version": 3
   },
   "file_extension": ".py",
   "mimetype": "text/x-python",
   "name": "python",
   "nbconvert_exporter": "python",
   "pygments_lexer": "ipython3",
   "version": "3.9.12"
  }
 },
 "nbformat": 4,
 "nbformat_minor": 2
}
