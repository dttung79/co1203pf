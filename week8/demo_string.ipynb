{
 "cells": [
  {
   "cell_type": "code",
   "execution_count": 3,
   "metadata": {},
   "outputs": [
    {
     "name": "stdout",
     "output_type": "stream",
     "text": [
      "123.456789\n",
      "123.46\n",
      "123.457\n"
     ]
    }
   ],
   "source": [
    "# Format string for float number\n",
    "a = 123.456789\n",
    "print(a)\n",
    "print(f'{a:.2f}') # print 2 decimal places\n",
    "print(f'{a:.3f}') # print 3 decimal places"
   ]
  },
  {
   "cell_type": "code",
   "execution_count": 5,
   "metadata": {},
   "outputs": [
    {
     "name": "stdout",
     "output_type": "stream",
     "text": [
      "1.23e+02\n",
      "1.235e+02\n"
     ]
    }
   ],
   "source": [
    "# Exponential notation\n",
    "print(f'{a:.2e}') # print 2 decimal places in exponential notation\n",
    "print(f'{a:.3e}') # print 2 decimal places in exponential notation"
   ]
  },
  {
   "cell_type": "code",
   "execution_count": 6,
   "metadata": {},
   "outputs": [
    {
     "name": "stdout",
     "output_type": "stream",
     "text": [
      "5.00%\n"
     ]
    }
   ],
   "source": [
    "# Percentage\n",
    "interest = 0.05\n",
    "print(f'{interest:.2%}') # print 2 decimal places in percentage"
   ]
  },
  {
   "cell_type": "code",
   "execution_count": 9,
   "metadata": {},
   "outputs": [
    {
     "name": "stdout",
     "output_type": "stream",
     "text": [
      "|              123.46|\n",
      "|123.46              |\n",
      "|       123.46       |\n"
     ]
    }
   ],
   "source": [
    "print(f'|{a:20.2f}|') # right align by default for number\n",
    "print(f'|{a:<20.2f}|') # left align\n",
    "print(f'|{a:^20.2f}|') # center align"
   ]
  },
  {
   "cell_type": "code",
   "execution_count": 14,
   "metadata": {},
   "outputs": [
    {
     "name": "stdout",
     "output_type": "stream",
     "text": [
      "hello world\n",
      "HELLO WORLD\n",
      "Hello World\n",
      "Hello world\n",
      "HEllO WoRLd\n"
     ]
    }
   ],
   "source": [
    "s = 'heLLo wOrlD'\n",
    "print(s.lower()) # convert all characters to lower case\n",
    "print(s.upper()) # convert all characters to upper case\n",
    "print(s.title()) # convert to title case (Capitalize first letter of each word)\n",
    "print(s.capitalize()) # capitalize first letter of the string\n",
    "print(s.swapcase()) # swap case of all characters"
   ]
  },
  {
   "cell_type": "code",
   "execution_count": 17,
   "metadata": {},
   "outputs": [
    {
     "name": "stdout",
     "output_type": "stream",
     "text": [
      "|  hello world        |\n",
      "|hello world        |\n",
      "|  hello world|\n",
      "|hello world|\n"
     ]
    }
   ],
   "source": [
    "s = '  hello world        '\n",
    "print(f'|{s}|')\n",
    "print(f'|{s.lstrip()}|') # remove leading spaces\n",
    "print(f'|{s.rstrip()}|') # remove trailing spaces\n",
    "print(f'|{s.strip()}|') # remove leading and trailing spaces"
   ]
  },
  {
   "cell_type": "code",
   "execution_count": 19,
   "metadata": {},
   "outputs": [
    {
     "name": "stdout",
     "output_type": "stream",
     "text": [
      "|    Hello World     |\n",
      "|Hello World         |\n",
      "|         Hello World|\n"
     ]
    }
   ],
   "source": [
    "s = 'Hello World'\n",
    "print(f'|{s.center(20)}|')\n",
    "print(f'|{s.ljust(20)}|')\n",
    "print(f'|{s.rjust(20)}|')"
   ]
  },
  {
   "cell_type": "code",
   "execution_count": 22,
   "metadata": {},
   "outputs": [
    {
     "name": "stdout",
     "output_type": "stream",
     "text": [
      "Hello Python World\n",
      "Hello Java World\n",
      "Hell* Pyth*n W*rld\n"
     ]
    }
   ],
   "source": [
    "s = 'Hello Python World'\n",
    "print(s)\n",
    "print(s.replace('Python', 'Java'))\n",
    "print(s.replace('o', '*'))"
   ]
  },
  {
   "cell_type": "code",
   "execution_count": 23,
   "metadata": {},
   "outputs": [
    {
     "name": "stdout",
     "output_type": "stream",
     "text": [
      "[26, 63, 82, 44, 84, 55, 6, 87, 91, 94]\n"
     ]
    }
   ],
   "source": [
    "import random as rd\n",
    "numbers = rd.sample(range(1, 100), 10)\n",
    "print(numbers)"
   ]
  },
  {
   "cell_type": "code",
   "execution_count": 27,
   "metadata": {},
   "outputs": [
    {
     "name": "stdout",
     "output_type": "stream",
     "text": [
      "94\n",
      "6\n",
      "9\n",
      "6\n"
     ]
    }
   ],
   "source": [
    "print(max(numbers))\n",
    "print(min(numbers))\n",
    "print(numbers.index(max(numbers)))\n",
    "print(numbers.index(min(numbers)))"
   ]
  },
  {
   "cell_type": "code",
   "execution_count": 28,
   "metadata": {},
   "outputs": [
    {
     "name": "stdout",
     "output_type": "stream",
     "text": [
      "George Bush\n",
      "Barrack Obama\n"
     ]
    }
   ],
   "source": [
    "names = ['Barrack Obama', 'Donald Trump', 'George Bush', 'Bill Clinton']\n",
    "print(max(names)) # max by alphabetical order\n",
    "print(min(names)) # min by alphabetical order"
   ]
  },
  {
   "cell_type": "code",
   "execution_count": 34,
   "metadata": {},
   "outputs": [
    {
     "name": "stdout",
     "output_type": "stream",
     "text": [
      "[26, 63, 82, 44, 84, 55, 6, 87, 91, 94]\n",
      "[26, 63, 82]\n",
      "[26, 63, 82]\n",
      "[6, 87, 91, 94]\n",
      "[6, 87, 91, 94]\n",
      "[82, 44, 84, 55, 6, 87]\n"
     ]
    }
   ],
   "source": [
    "# Slice list & string\n",
    "print(numbers)\n",
    "print(numbers[0:3]) # print first 3 elements\n",
    "print(numbers[:3]) # print first 3 elements\n",
    "print(numbers[6:10]) # print last 4 elements\n",
    "print(numbers[-4:]) # print last 4 elements\n",
    "print(numbers[2:-2]) # remove 2 first and 2 last elements"
   ]
  },
  {
   "cell_type": "code",
   "execution_count": 38,
   "metadata": {},
   "outputs": [
    {
     "name": "stdout",
     "output_type": "stream",
     "text": [
      "Hello\n",
      "World\n",
      "helloworld\n",
      "hellohellohellohellohello\n"
     ]
    }
   ],
   "source": [
    "s = 'Hello Python World'\n",
    "print(s[:5])\n",
    "print(s[-5:])\n",
    "s1 = 'hello'\n",
    "s2 = 'world'\n",
    "print(s1 + s2)\n",
    "print(s1 * 5)"
   ]
  },
  {
   "cell_type": "code",
   "execution_count": 41,
   "metadata": {},
   "outputs": [
    {
     "name": "stdout",
     "output_type": "stream",
     "text": [
      "[-100, 63, 82, 44, 84, 55, 6, 87, 91, 94]\n",
      "Hello Python World\n",
      "[-100, 63, 82, 44, 84, 55, 6, 87, 91, 94]\n"
     ]
    },
    {
     "ename": "TypeError",
     "evalue": "'str' object does not support item assignment",
     "output_type": "error",
     "traceback": [
      "\u001b[0;31m---------------------------------------------------------------------------\u001b[0m",
      "\u001b[0;31mTypeError\u001b[0m                                 Traceback (most recent call last)",
      "\u001b[1;32m/Users/tungdt/Library/CloudStorage/GoogleDrive-dttung@gmail.com/My Drive/FPTU/Program 3+0/COMP1753 - Programming Foundation/CO1203/co1203pf/week8/demo_string.ipynb Cell 14\u001b[0m line \u001b[0;36m<cell line: 5>\u001b[0;34m()\u001b[0m\n\u001b[1;32m      <a href='vscode-notebook-cell:/Users/tungdt/Library/CloudStorage/GoogleDrive-dttung%40gmail.com/My%20Drive/FPTU/Program%203%2B0/COMP1753%20-%20Programming%20Foundation/CO1203/co1203pf/week8/demo_string.ipynb#X16sZmlsZQ%3D%3D?line=2'>3</a>\u001b[0m numbers[\u001b[39m0\u001b[39m] \u001b[39m=\u001b[39m \u001b[39m-\u001b[39m\u001b[39m100\u001b[39m\n\u001b[1;32m      <a href='vscode-notebook-cell:/Users/tungdt/Library/CloudStorage/GoogleDrive-dttung%40gmail.com/My%20Drive/FPTU/Program%203%2B0/COMP1753%20-%20Programming%20Foundation/CO1203/co1203pf/week8/demo_string.ipynb#X16sZmlsZQ%3D%3D?line=3'>4</a>\u001b[0m \u001b[39mprint\u001b[39m(numbers)\n\u001b[0;32m----> <a href='vscode-notebook-cell:/Users/tungdt/Library/CloudStorage/GoogleDrive-dttung%40gmail.com/My%20Drive/FPTU/Program%203%2B0/COMP1753%20-%20Programming%20Foundation/CO1203/co1203pf/week8/demo_string.ipynb#X16sZmlsZQ%3D%3D?line=4'>5</a>\u001b[0m s[\u001b[39m0\u001b[39m] \u001b[39m=\u001b[39m \u001b[39m'\u001b[39m\u001b[39mX\u001b[39m\u001b[39m'\u001b[39m\n\u001b[1;32m      <a href='vscode-notebook-cell:/Users/tungdt/Library/CloudStorage/GoogleDrive-dttung%40gmail.com/My%20Drive/FPTU/Program%203%2B0/COMP1753%20-%20Programming%20Foundation/CO1203/co1203pf/week8/demo_string.ipynb#X16sZmlsZQ%3D%3D?line=5'>6</a>\u001b[0m \u001b[39mprint\u001b[39m(s)\n",
      "\u001b[0;31mTypeError\u001b[0m: 'str' object does not support item assignment"
     ]
    }
   ],
   "source": [
    "print(numbers)\n",
    "print(s)\n",
    "numbers[0] = -100\n",
    "print(numbers)\n",
    "s[0] = 'X'\n",
    "print(s)"
   ]
  },
  {
   "cell_type": "code",
   "execution_count": 43,
   "metadata": {},
   "outputs": [
    {
     "name": "stdout",
     "output_type": "stream",
     "text": [
      "[1, 100, 3]\n"
     ]
    },
    {
     "ename": "TypeError",
     "evalue": "'tuple' object does not support item assignment",
     "output_type": "error",
     "traceback": [
      "\u001b[0;31m---------------------------------------------------------------------------\u001b[0m",
      "\u001b[0;31mTypeError\u001b[0m                                 Traceback (most recent call last)",
      "\u001b[1;32m/Users/tungdt/Library/CloudStorage/GoogleDrive-dttung@gmail.com/My Drive/FPTU/Program 3+0/COMP1753 - Programming Foundation/CO1203/co1203pf/week8/demo_string.ipynb Cell 15\u001b[0m line \u001b[0;36m<cell line: 5>\u001b[0;34m()\u001b[0m\n\u001b[1;32m      <a href='vscode-notebook-cell:/Users/tungdt/Library/CloudStorage/GoogleDrive-dttung%40gmail.com/My%20Drive/FPTU/Program%203%2B0/COMP1753%20-%20Programming%20Foundation/CO1203/co1203pf/week8/demo_string.ipynb#X20sZmlsZQ%3D%3D?line=2'>3</a>\u001b[0m a[\u001b[39m1\u001b[39m] \u001b[39m=\u001b[39m \u001b[39m100\u001b[39m\n\u001b[1;32m      <a href='vscode-notebook-cell:/Users/tungdt/Library/CloudStorage/GoogleDrive-dttung%40gmail.com/My%20Drive/FPTU/Program%203%2B0/COMP1753%20-%20Programming%20Foundation/CO1203/co1203pf/week8/demo_string.ipynb#X20sZmlsZQ%3D%3D?line=3'>4</a>\u001b[0m \u001b[39mprint\u001b[39m(a)\n\u001b[0;32m----> <a href='vscode-notebook-cell:/Users/tungdt/Library/CloudStorage/GoogleDrive-dttung%40gmail.com/My%20Drive/FPTU/Program%203%2B0/COMP1753%20-%20Programming%20Foundation/CO1203/co1203pf/week8/demo_string.ipynb#X20sZmlsZQ%3D%3D?line=4'>5</a>\u001b[0m b[\u001b[39m1\u001b[39m] \u001b[39m=\u001b[39m \u001b[39m100\u001b[39m\n",
      "\u001b[0;31mTypeError\u001b[0m: 'tuple' object does not support item assignment"
     ]
    }
   ],
   "source": [
    "a = [1, 2, 3] # list - mutable\n",
    "b = (1, 2, 3) # tuple - immutable (similar string)\n",
    "a[1] = 100\n",
    "print(a)\n",
    "b[1] = 100 # error"
   ]
  },
  {
   "cell_type": "code",
   "execution_count": 46,
   "metadata": {},
   "outputs": [
    {
     "name": "stdout",
     "output_type": "stream",
     "text": [
      "123\n",
      "1-2-3\n"
     ]
    }
   ],
   "source": [
    "# convert list to string\n",
    "a = ['1', '2', '3']\n",
    "s = ''.join(a)\n",
    "print(s)\n",
    "s = '-'.join(a)\n",
    "print(s)"
   ]
  },
  {
   "cell_type": "code",
   "execution_count": 49,
   "metadata": {},
   "outputs": [
    {
     "name": "stdout",
     "output_type": "stream",
     "text": [
      "['1', '2', '3', '4']\n",
      "['the', 'quick', 'brown', 'fox', 'jumps', 'over', 'the', 'lazy', 'dog']\n",
      "9\n"
     ]
    }
   ],
   "source": [
    "# convert string to list\n",
    "s = '1,2,3,4'\n",
    "a = s.split(',')\n",
    "print(a)\n",
    "msg = 'the quick brown fox jumps over the lazy dog'\n",
    "words = msg.split()\n",
    "print(words)\n",
    "print(len(words))"
   ]
  },
  {
   "cell_type": "code",
   "execution_count": 53,
   "metadata": {},
   "outputs": [
    {
     "name": "stdout",
     "output_type": "stream",
     "text": [
      "All characters are alphabetic\n",
      "All characters are alpha or numeric\n",
      "All characters are upper case\n"
     ]
    }
   ],
   "source": [
    "s = input('Enter a string: ')\n",
    "if s.isalpha():\n",
    "    print('All characters are alphabetic')\n",
    "if s.isdigit():\n",
    "    print('All characters are digits')\n",
    "if s.isalnum():\n",
    "    print('All characters are alpha or numeric')\n",
    "if s.islower():\n",
    "    print('All characters are lower case')\n",
    "if s.isupper():\n",
    "    print('All characters are upper case')"
   ]
  },
  {
   "cell_type": "code",
   "execution_count": 56,
   "metadata": {},
   "outputs": [
    {
     "name": "stdout",
     "output_type": "stream",
     "text": [
      "hello ()-+python $%world !@\n",
      "hello python world \n"
     ]
    }
   ],
   "source": [
    "# Chaining string processing methods\n",
    "s = '  Hello ()-+Python $%World !@ '\n",
    "# remove leading and trailing spaces, change to lowercase, remove special characters\n",
    "s = s.strip().lower()\n",
    "print(s)\n",
    "from string import punctuation\n",
    "for c in punctuation:\n",
    "    s = s.replace(c, '')\n",
    "print(s)"
   ]
  },
  {
   "cell_type": "code",
   "execution_count": 60,
   "metadata": {},
   "outputs": [
    {
     "name": "stdout",
     "output_type": "stream",
     "text": [
      "|hello python world| does not start with |world|\n",
      "|hello python world| ends with |world|\n"
     ]
    }
   ],
   "source": [
    "s1 = 'hello python world'\n",
    "s2 = input('Enter a string: ')\n",
    "\n",
    "if s1.startswith(s2):\n",
    "    print(f'|{s1}| starts with |{s2}|')\n",
    "else:\n",
    "    print(f'|{s1}| does not start with |{s2}|')\n",
    "\n",
    "if s1.endswith(s2):\n",
    "    print(f'|{s1}| ends with |{s2}|')\n",
    "else:\n",
    "    print(f'|{s1}| does not end with |{s2}|')"
   ]
  }
 ],
 "metadata": {
  "kernelspec": {
   "display_name": "Python 3",
   "language": "python",
   "name": "python3"
  },
  "language_info": {
   "codemirror_mode": {
    "name": "ipython",
    "version": 3
   },
   "file_extension": ".py",
   "mimetype": "text/x-python",
   "name": "python",
   "nbconvert_exporter": "python",
   "pygments_lexer": "ipython3",
   "version": "3.9.12"
  }
 },
 "nbformat": 4,
 "nbformat_minor": 2
}
