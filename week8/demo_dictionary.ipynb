{
 "cells": [
  {
   "cell_type": "code",
   "execution_count": 1,
   "metadata": {},
   "outputs": [
    {
     "name": "stdout",
     "output_type": "stream",
     "text": [
      "{'one': 'mot', 'hello': 'xin chao', 'morning': 'buoi sang'}\n"
     ]
    }
   ],
   "source": [
    "en_vi = {} # empty dictionary\n",
    "en_vi['one'] = 'mot'\n",
    "en_vi['hello'] = 'xin chao'\n",
    "en_vi['morning'] = 'buoi sang'\n",
    "print(en_vi)"
   ]
  },
  {
   "cell_type": "code",
   "execution_count": 5,
   "metadata": {},
   "outputs": [
    {
     "name": "stdout",
     "output_type": "stream",
     "text": [
      "Not found hi in dictionary\n"
     ]
    }
   ],
   "source": [
    "en_word = input('Enter an English word: ')\n",
    "if en_word in en_vi: # check if en_word is in the dictionary\n",
    "    vn_word = en_vi[en_word] # get value from key\n",
    "    print(f'Translate {en_word} to Vietnamese is {vn_word}')\n",
    "else:\n",
    "    print(f'Not found {en_word} in dictionary')"
   ]
  },
  {
   "cell_type": "code",
   "execution_count": 8,
   "metadata": {},
   "outputs": [
    {
     "name": "stdout",
     "output_type": "stream",
     "text": [
      "hello is already in dictionary\n"
     ]
    }
   ],
   "source": [
    "en_word = input('Enter a new English word: ')\n",
    "vn_word = input('Enter a Vietnamese translation: ')\n",
    "if en_word in en_vi:\n",
    "    print(f'{en_word} is already in dictionary')\n",
    "else:\n",
    "    en_vi[en_word] = vn_word # add new key-value pair to dictionary\n",
    "    print(en_vi)"
   ]
  },
  {
   "cell_type": "code",
   "execution_count": 9,
   "metadata": {},
   "outputs": [
    {
     "name": "stdout",
     "output_type": "stream",
     "text": [
      "{'one': 'mot', 'hello': 'xin chao', 'morning': 'buoi sang', 'hi': 'chao'}\n"
     ]
    }
   ],
   "source": [
    "en_word = input('Enter a current English word: ')\n",
    "vn_word = input('Enter a Vietnamese translation: ')\n",
    "if en_word not in en_vi:\n",
    "    print(f'{en_word} is not in dictionary')\n",
    "else:\n",
    "    en_vi[en_word] = vn_word # change key-value pair in dictionary\n",
    "    print(en_vi)"
   ]
  },
  {
   "cell_type": "code",
   "execution_count": 10,
   "metadata": {},
   "outputs": [
    {
     "name": "stdout",
     "output_type": "stream",
     "text": [
      "{'hello': 'xin chao', 'morning': 'buoi sang', 'hi': 'chao'}\n"
     ]
    }
   ],
   "source": [
    "en_word = input('Enter an English word to delete: ')\n",
    "if en_word not in en_vi:\n",
    "    print(f'{en_word} is not in dictionary')\n",
    "else:\n",
    "    en_vi.pop(en_word) # delete key-value pair in dictionary\n",
    "    print(en_vi)"
   ]
  },
  {
   "cell_type": "code",
   "execution_count": 11,
   "metadata": {},
   "outputs": [
    {
     "name": "stdout",
     "output_type": "stream",
     "text": [
      "{'GCH1800': 'Le Duc Manh', 'GCH1801': 'Nguyen Dinh Long', 'GCH1802': 'Ho Tu Bao'}\n"
     ]
    }
   ],
   "source": [
    "students = {'GCH1800': 'Le Duc Manh', 'GCH1801': 'Nguyen Dinh Long', 'GCH1802': 'Ho Tu Bao'}\n",
    "print(students)"
   ]
  },
  {
   "cell_type": "code",
   "execution_count": 13,
   "metadata": {},
   "outputs": [
    {
     "name": "stdout",
     "output_type": "stream",
     "text": [
      "Student id GCH1899 not found\n"
     ]
    }
   ],
   "source": [
    "# 1. Enter student id, look for name\n",
    "id = input('Enter student id: ')\n",
    "if id in students:\n",
    "    print(f'Student name is {students[id]}')\n",
    "else:\n",
    "    print(f'Student id {id} not found')\n",
    "# 2. Add new student\n",
    "id = input('Enter new student id: ')\n",
    "name = input('Enter new student name: ')\n",
    "if id in students:\n",
    "    print(f'Student id {id} already exists')\n",
    "else:\n",
    "    students[id] = name\n",
    "    print(students)\n",
    "# 3. Edit name of student by id\n",
    "id = input('Enter current student id: ')\n",
    "name = input('Enter new student name: ')\n",
    "if id not in students:\n",
    "    print(f'Student id {id} not exists')\n",
    "else:\n",
    "    students[id] = name\n",
    "    print(students)\n",
    "# 4. Delete student by id\n",
    "id = input('Enter student id to delete: ')\n",
    "if id not in students:\n",
    "    print(f'Student id {id} not exists')\n",
    "else:\n",
    "    students.pop(id)\n",
    "    print(students)"
   ]
  }
 ],
 "metadata": {
  "kernelspec": {
   "display_name": "Python 3",
   "language": "python",
   "name": "python3"
  },
  "language_info": {
   "codemirror_mode": {
    "name": "ipython",
    "version": 3
   },
   "file_extension": ".py",
   "mimetype": "text/x-python",
   "name": "python",
   "nbconvert_exporter": "python",
   "pygments_lexer": "ipython3",
   "version": "3.9.12"
  }
 },
 "nbformat": 4,
 "nbformat_minor": 2
}
