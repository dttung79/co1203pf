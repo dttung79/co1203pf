{
 "cells": [
  {
   "cell_type": "code",
   "execution_count": null,
   "metadata": {},
   "outputs": [],
   "source": [
    "f = open('hello.txt', 'r')\n",
    "# read all the content into a string (suitable for small files)\n",
    "content = f.read()\n",
    "print(content)"
   ]
  },
  {
   "cell_type": "code",
   "execution_count": null,
   "metadata": {},
   "outputs": [],
   "source": [
    "f = open('hello.txt', 'r')\n",
    "lines = f.readlines() # read all the lines into a list\n",
    "print(lines)\n",
    "for i in range(len(lines)):\n",
    "    print(f'{i+1}: {lines[i].strip()}')"
   ]
  },
  {
   "cell_type": "code",
   "execution_count": 6,
   "metadata": {},
   "outputs": [
    {
     "name": "stdout",
     "output_type": "stream",
     "text": [
      "Hello\n",
      "Xin Chao\n",
      "Bonjour\n",
      "Hola\n"
     ]
    }
   ],
   "source": [
    "f = open('hello.txt', 'r')\n",
    "line = f.readline() # read 1st line\n",
    "\n",
    "while line != '':\n",
    "    print(line.strip())\n",
    "    line = f.readline() # read next line"
   ]
  }
 ],
 "metadata": {
  "kernelspec": {
   "display_name": "Python 3",
   "language": "python",
   "name": "python3"
  },
  "language_info": {
   "codemirror_mode": {
    "name": "ipython",
    "version": 3
   },
   "file_extension": ".py",
   "mimetype": "text/x-python",
   "name": "python",
   "nbconvert_exporter": "python",
   "pygments_lexer": "ipython3",
   "version": "3.9.12"
  }
 },
 "nbformat": 4,
 "nbformat_minor": 2
}
