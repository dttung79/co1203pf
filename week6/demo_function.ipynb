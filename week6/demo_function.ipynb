{
 "cells": [
  {
   "cell_type": "code",
   "execution_count": 9,
   "metadata": {},
   "outputs": [],
   "source": [
    "def say():\n",
    "    print('Hello everyone, I am a function')"
   ]
  },
  {
   "cell_type": "code",
   "execution_count": null,
   "metadata": {},
   "outputs": [],
   "source": [
    "say()\n",
    "say()"
   ]
  },
  {
   "cell_type": "code",
   "execution_count": 1,
   "metadata": {},
   "outputs": [],
   "source": [
    "def say(name, age):\n",
    "    print(f'Hello {name}, I am a function')\n",
    "    print(f'You are {age} years old')"
   ]
  },
  {
   "cell_type": "code",
   "execution_count": 2,
   "metadata": {},
   "outputs": [
    {
     "name": "stdout",
     "output_type": "stream",
     "text": [
      "Hello John, I am a function\n",
      "You are 9 years old\n",
      "Hello Mary, I am a function\n",
      "You are 10 years old\n"
     ]
    }
   ],
   "source": [
    "say('John', 9)\n",
    "say('Mary', 10)"
   ]
  },
  {
   "cell_type": "code",
   "execution_count": 58,
   "metadata": {},
   "outputs": [],
   "source": [
    "def print_line(n, c='*'):\n",
    "    for i in range(n):\n",
    "        print(c, end=' ')"
   ]
  },
  {
   "cell_type": "code",
   "execution_count": 60,
   "metadata": {},
   "outputs": [
    {
     "name": "stdout",
     "output_type": "stream",
     "text": [
      "* * * * & & & & "
     ]
    }
   ],
   "source": [
    "print_line(4)\n",
    "print_line(4, '&')"
   ]
  },
  {
   "cell_type": "code",
   "execution_count": null,
   "metadata": {},
   "outputs": [],
   "source": [
    "n = int(input('Enter a number: '))\n",
    "for i in range(1, n + 1):\n",
    "    print_line(i)\n",
    "    print()"
   ]
  },
  {
   "cell_type": "code",
   "execution_count": null,
   "metadata": {},
   "outputs": [],
   "source": [
    "for i in range(n, 0, -1):\n",
    "    print_line(i)\n",
    "    print()"
   ]
  },
  {
   "cell_type": "code",
   "execution_count": 36,
   "metadata": {},
   "outputs": [
    {
     "name": "stdout",
     "output_type": "stream",
     "text": [
      "+ + + + + \n",
      "  + + + + \n",
      "    + + + \n",
      "      + + \n",
      "        + \n"
     ]
    }
   ],
   "source": [
    "for j in range(n, 0, -1):\n",
    "    print_line(n - j, c=' ')    # print n - i spaces\n",
    "    print_line(j, '+')          # print i stars\n",
    "    print()"
   ]
  },
  {
   "cell_type": "code",
   "execution_count": 37,
   "metadata": {},
   "outputs": [],
   "source": [
    "# Function that returns a value\n",
    "def double(a):\n",
    "    return a * 2"
   ]
  },
  {
   "cell_type": "code",
   "execution_count": 41,
   "metadata": {},
   "outputs": [
    {
     "name": "stdout",
     "output_type": "stream",
     "text": [
      "8\n",
      "10\n",
      "40\n",
      "64\n"
     ]
    }
   ],
   "source": [
    "# use double in some cases:\n",
    "print(double(4)) # print a value returned by double\n",
    "a = double(5)    # call double, save returned value to a\n",
    "print(a)\n",
    "\n",
    "b = double(a) + double(10) # use in an expression\n",
    "print(b)\n",
    "\n",
    "print(double(double(double(8))))"
   ]
  },
  {
   "cell_type": "code",
   "execution_count": 42,
   "metadata": {},
   "outputs": [],
   "source": [
    "def avg_grades(math, physics, english):\n",
    "    return (math + physics + english) / 3"
   ]
  },
  {
   "cell_type": "code",
   "execution_count": 44,
   "metadata": {},
   "outputs": [
    {
     "name": "stdout",
     "output_type": "stream",
     "text": [
      "Average grades = 7.33\n"
     ]
    }
   ],
   "source": [
    "math = int(input('Enter math grade: '))\n",
    "physics = int(input('Enter physics grade: '))\n",
    "english = int(input('Enter english grade: '))\n",
    "\n",
    "avg = avg_grades(math, physics, english)\n",
    "print(f'Average grades = {avg:.2f}')"
   ]
  },
  {
   "cell_type": "code",
   "execution_count": 45,
   "metadata": {},
   "outputs": [],
   "source": [
    "def my_sum(n):\n",
    "    s = 0\n",
    "    for i in range(1, n + 1):\n",
    "        s += i\n",
    "    return s"
   ]
  },
  {
   "cell_type": "code",
   "execution_count": 47,
   "metadata": {},
   "outputs": [
    {
     "name": "stdout",
     "output_type": "stream",
     "text": [
      "55\n",
      "210\n"
     ]
    }
   ],
   "source": [
    "print(my_sum(10))\n",
    "print(my_sum(20))"
   ]
  },
  {
   "cell_type": "code",
   "execution_count": 48,
   "metadata": {},
   "outputs": [
    {
     "name": "stdout",
     "output_type": "stream",
     "text": [
      "Sum from 1 to 10 = 55\n"
     ]
    }
   ],
   "source": [
    "n = int(input('Enter n: '))\n",
    "print(f'Sum from 1 to {n} = {my_sum(n)}')"
   ]
  },
  {
   "cell_type": "code",
   "execution_count": 49,
   "metadata": {},
   "outputs": [],
   "source": [
    "def print_triangle(n, c='*'):\n",
    "    for i in range(1, n + 1):\n",
    "        print_line(i, c)\n",
    "        print()"
   ]
  },
  {
   "cell_type": "code",
   "execution_count": 50,
   "metadata": {},
   "outputs": [
    {
     "name": "stdout",
     "output_type": "stream",
     "text": [
      "* \n",
      "* * \n",
      "* * * \n",
      "* * * * \n",
      "* * * * * \n"
     ]
    }
   ],
   "source": [
    "print_triangle(5)"
   ]
  },
  {
   "cell_type": "code",
   "execution_count": 51,
   "metadata": {},
   "outputs": [
    {
     "name": "stdout",
     "output_type": "stream",
     "text": [
      "$ \n",
      "$ $ \n",
      "$ $ $ \n",
      "$ $ $ $ \n",
      "$ $ $ $ $ \n"
     ]
    }
   ],
   "source": [
    "n = int(input('Enter n: '))\n",
    "c = input('Enter a character: ')\n",
    "print_triangle(n, c)"
   ]
  },
  {
   "cell_type": "code",
   "execution_count": 54,
   "metadata": {},
   "outputs": [],
   "source": [
    "def print_bill(customer, payment):\n",
    "    print('Customer name:', customer)\n",
    "    print('Payment:', payment)\n",
    "    tax = 0.1\n",
    "    total_payment = payment * (1 + tax)\n",
    "    print(f'Payment after tax: {total_payment:.2f}')"
   ]
  },
  {
   "cell_type": "code",
   "execution_count": 62,
   "metadata": {},
   "outputs": [
    {
     "name": "stdout",
     "output_type": "stream",
     "text": [
      "Customer name: 100\n",
      "Payment: John\n"
     ]
    },
    {
     "ename": "TypeError",
     "evalue": "can't multiply sequence by non-int of type 'float'",
     "output_type": "error",
     "traceback": [
      "\u001b[0;31m---------------------------------------------------------------------------\u001b[0m",
      "\u001b[0;31mTypeError\u001b[0m                                 Traceback (most recent call last)",
      "\u001b[1;32m/Users/tungdt/Library/CloudStorage/GoogleDrive-dttung@gmail.com/My Drive/FPTU/Program 3+0/COMP1753 - Programming Foundation/CO1203/co1203pf/week6/demo_function.ipynb Cell 21\u001b[0m line \u001b[0;36m<cell line: 1>\u001b[0;34m()\u001b[0m\n\u001b[0;32m----> <a href='vscode-notebook-cell:/Users/tungdt/Library/CloudStorage/GoogleDrive-dttung%40gmail.com/My%20Drive/FPTU/Program%203%2B0/COMP1753%20-%20Programming%20Foundation/CO1203/co1203pf/week6/demo_function.ipynb#X26sZmlsZQ%3D%3D?line=0'>1</a>\u001b[0m print_bill(\u001b[39m100\u001b[39;49m, \u001b[39m'\u001b[39;49m\u001b[39mJohn\u001b[39;49m\u001b[39m'\u001b[39;49m)\n",
      "\u001b[1;32m/Users/tungdt/Library/CloudStorage/GoogleDrive-dttung@gmail.com/My Drive/FPTU/Program 3+0/COMP1753 - Programming Foundation/CO1203/co1203pf/week6/demo_function.ipynb Cell 21\u001b[0m line \u001b[0;36mprint_bill\u001b[0;34m(customer, payment)\u001b[0m\n\u001b[1;32m      <a href='vscode-notebook-cell:/Users/tungdt/Library/CloudStorage/GoogleDrive-dttung%40gmail.com/My%20Drive/FPTU/Program%203%2B0/COMP1753%20-%20Programming%20Foundation/CO1203/co1203pf/week6/demo_function.ipynb#X26sZmlsZQ%3D%3D?line=2'>3</a>\u001b[0m \u001b[39mprint\u001b[39m(\u001b[39m'\u001b[39m\u001b[39mPayment:\u001b[39m\u001b[39m'\u001b[39m, payment)\n\u001b[1;32m      <a href='vscode-notebook-cell:/Users/tungdt/Library/CloudStorage/GoogleDrive-dttung%40gmail.com/My%20Drive/FPTU/Program%203%2B0/COMP1753%20-%20Programming%20Foundation/CO1203/co1203pf/week6/demo_function.ipynb#X26sZmlsZQ%3D%3D?line=3'>4</a>\u001b[0m tax \u001b[39m=\u001b[39m \u001b[39m0.1\u001b[39m\n\u001b[0;32m----> <a href='vscode-notebook-cell:/Users/tungdt/Library/CloudStorage/GoogleDrive-dttung%40gmail.com/My%20Drive/FPTU/Program%203%2B0/COMP1753%20-%20Programming%20Foundation/CO1203/co1203pf/week6/demo_function.ipynb#X26sZmlsZQ%3D%3D?line=4'>5</a>\u001b[0m total_payment \u001b[39m=\u001b[39m payment \u001b[39m*\u001b[39;49m (\u001b[39m1\u001b[39;49m \u001b[39m+\u001b[39;49m tax)\n\u001b[1;32m      <a href='vscode-notebook-cell:/Users/tungdt/Library/CloudStorage/GoogleDrive-dttung%40gmail.com/My%20Drive/FPTU/Program%203%2B0/COMP1753%20-%20Programming%20Foundation/CO1203/co1203pf/week6/demo_function.ipynb#X26sZmlsZQ%3D%3D?line=5'>6</a>\u001b[0m \u001b[39mprint\u001b[39m(\u001b[39mf\u001b[39m\u001b[39m'\u001b[39m\u001b[39mPayment after tax: \u001b[39m\u001b[39m{\u001b[39;00mtotal_payment\u001b[39m:\u001b[39;00m\u001b[39m.2f\u001b[39m\u001b[39m}\u001b[39;00m\u001b[39m'\u001b[39m)\n",
      "\u001b[0;31mTypeError\u001b[0m: can't multiply sequence by non-int of type 'float'"
     ]
    }
   ],
   "source": [
    "print_bill(100, 'John')"
   ]
  },
  {
   "cell_type": "code",
   "execution_count": 56,
   "metadata": {},
   "outputs": [
    {
     "name": "stdout",
     "output_type": "stream",
     "text": [
      "Customer name: Paul\n",
      "Payment: 2220\n",
      "Payment after tax: 2442.00\n"
     ]
    }
   ],
   "source": [
    "customer = input('Enter customer name: ')\n",
    "payment = int(input('Enter payment: '))\n",
    "print_bill(customer, payment)"
   ]
  }
 ],
 "metadata": {
  "kernelspec": {
   "display_name": "Python 3",
   "language": "python",
   "name": "python3"
  },
  "language_info": {
   "codemirror_mode": {
    "name": "ipython",
    "version": 3
   },
   "file_extension": ".py",
   "mimetype": "text/x-python",
   "name": "python",
   "nbconvert_exporter": "python",
   "pygments_lexer": "ipython3",
   "version": "3.9.12"
  }
 },
 "nbformat": 4,
 "nbformat_minor": 2
}
